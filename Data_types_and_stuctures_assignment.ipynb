{
  "nbformat": 4,
  "nbformat_minor": 0,
  "metadata": {
    "colab": {
      "provenance": []
    },
    "kernelspec": {
      "name": "python3",
      "display_name": "Python 3"
    },
    "language_info": {
      "name": "python"
    }
  },
  "cells": [
    {
      "cell_type": "markdown",
      "source": [
        "**Q1) What are data structures, and why are they important**"
      ],
      "metadata": {
        "id": "xMTVGfwu3a4U"
      }
    },
    {
      "cell_type": "code",
      "execution_count": null,
      "metadata": {
        "colab": {
          "base_uri": "https://localhost:8080/",
          "height": 199
        },
        "id": "OscFEDKf3EQx",
        "outputId": "bdecb2f4-1f25-4272-d020-adeb6bbce706"
      },
      "outputs": [
        {
          "output_type": "execute_result",
          "data": {
            "text/plain": [
              "'\\ndata stucture are a way of organizing and storing data in a computer so that it\\ncan be accessed and manipulated in a efficent way \\n\\ndata stucture are important as,\\n1.efficency: data stucture directly affect the efficency of the program by \\n              enabling faster access, insertion, deletion, and modification of \\n              data depending on the operation and data stucture used\\n\\n2.better resource utilization: proper selection of data stucture minimises usage\\n                                of computational resources like memory and \\n                                processing time\\n\\n3.problem-solving: they are very useful in solving the complex problems \\n\\n4.scalability: as data grows efficent data stucture allows programs to scale \\n                without performance degradation\\n'"
            ],
            "application/vnd.google.colaboratory.intrinsic+json": {
              "type": "string"
            }
          },
          "metadata": {},
          "execution_count": 1
        }
      ],
      "source": [
        "\"\"\"\n",
        "data stucture are a way of organizing and storing data in a computer so that it\n",
        "can be accessed and manipulated in a efficent way\n",
        "\n",
        "data stucture are important as,\n",
        "1.efficency: data stucture directly affect the efficency of the program by\n",
        "              enabling faster access, insertion, deletion, and modification of\n",
        "              data depending on the operation and data stucture used\n",
        "\n",
        "2.better resource utilization: proper selection of data stucture minimises usage\n",
        "                                of computational resources like memory and\n",
        "                                processing time\n",
        "\n",
        "3.problem-solving: they are very useful in solving the complex problems\n",
        "\n",
        "4.scalability: as data grows efficent data stucture allows programs to scale\n",
        "                without performance degradation\n",
        "\"\"\""
      ]
    },
    {
      "cell_type": "markdown",
      "source": [
        "**Q2) Explain the difference between mutable and immutable data types with examples?**"
      ],
      "metadata": {
        "id": "uGBg7cRo5auo"
      }
    },
    {
      "cell_type": "code",
      "source": [
        "\"\"\"\n",
        "Mutable data type:\n",
        "        it is the data tpye where the object's state or value can be changed or\n",
        "        modified after it has been created\n",
        "\n",
        "        eg:\n",
        "        1.lists: we can add, remove, or change elements in the list\n",
        "        2.dictionary: we can change values associated with specific keys or add,\n",
        "        remove key:value pairs\n",
        "        3.sets: we can add or remove elements from a set\n",
        "\"\"\""
      ],
      "metadata": {
        "colab": {
          "base_uri": "https://localhost:8080/",
          "height": 126
        },
        "id": "xArjBaDM5UiR",
        "outputId": "f9111f0a-ce99-4688-ee57-693d054403a0"
      },
      "execution_count": null,
      "outputs": [
        {
          "output_type": "execute_result",
          "data": {
            "text/plain": [
              "\"\\nMutable data type:\\n        it is the data tpye where the object's state or value can be changed or \\n        modified after it has been created\\n\\n        eg: \\n        1.lists: we can add, remove, or change elements in the list\\n        2.dictionary: we can change values associated with specific keys or add,\\n        remove key:value pairs\\n        3.sets: we can add or remove elements from a set\\n\""
            ],
            "application/vnd.google.colaboratory.intrinsic+json": {
              "type": "string"
            }
          },
          "metadata": {},
          "execution_count": 2
        }
      ]
    },
    {
      "cell_type": "code",
      "source": [
        "my_list = [1,2,3]\n",
        "my_list[0]=10\n",
        "my_list.append(4)\n",
        "my_list"
      ],
      "metadata": {
        "colab": {
          "base_uri": "https://localhost:8080/"
        },
        "id": "SBM5Eqw16iOR",
        "outputId": "2aaa561b-a808-47d2-c710-fc6dd2921f05"
      },
      "execution_count": null,
      "outputs": [
        {
          "output_type": "execute_result",
          "data": {
            "text/plain": [
              "[10, 2, 3, 4]"
            ]
          },
          "metadata": {},
          "execution_count": 5
        }
      ]
    },
    {
      "cell_type": "code",
      "source": [
        "\"\"\"\n",
        "as we can see we can change the value of an element in the list and add elements\n",
        "to the list after it has been created\n",
        "therefore, we can say that list is mutable\n",
        "\"\"\""
      ],
      "metadata": {
        "colab": {
          "base_uri": "https://localhost:8080/",
          "height": 72
        },
        "id": "J4thyibB6rwZ",
        "outputId": "a28caf00-811b-4026-a6f7-f9ce1a396527"
      },
      "execution_count": null,
      "outputs": [
        {
          "output_type": "execute_result",
          "data": {
            "text/plain": [
              "'\\nas we can see we can change the value of an element in the list and add elements \\nto the list after it has been created\\ntherefore, we can say that list is mutable\\n'"
            ],
            "application/vnd.google.colaboratory.intrinsic+json": {
              "type": "string"
            }
          },
          "metadata": {},
          "execution_count": 6
        }
      ]
    },
    {
      "cell_type": "code",
      "source": [
        "\"\"\"\n",
        "immutable data type: it is the data stucture where object's state or value cant\n",
        "                    be changed after it has been created\n",
        "            eg:\n",
        "            1.strings: cant change the characters in string after it is created\n",
        "            2.tuples: once created, cant add, change, or remove its elements\n",
        "\"\"\""
      ],
      "metadata": {
        "colab": {
          "base_uri": "https://localhost:8080/",
          "height": 90
        },
        "id": "77_-V_Iq6-1t",
        "outputId": "4da70582-9602-4fa4-dd1e-81dd3746da36"
      },
      "execution_count": null,
      "outputs": [
        {
          "output_type": "execute_result",
          "data": {
            "text/plain": [
              "\"\\nimmutable data type: it is the data stucture where object's state or value cant \\n                    be changed after it has been created\\n            eg:\\n            1.strings: cant change the characters in string after it is created\\n            2.tuples: once created, cant add, change, or remove its elements\\n\""
            ],
            "application/vnd.google.colaboratory.intrinsic+json": {
              "type": "string"
            }
          },
          "metadata": {},
          "execution_count": 7
        }
      ]
    },
    {
      "cell_type": "code",
      "source": [
        "string1 = \"hello\"\n",
        "string1[0]=\"m\""
      ],
      "metadata": {
        "colab": {
          "base_uri": "https://localhost:8080/",
          "height": 164
        },
        "id": "Xrfil9fm7bH1",
        "outputId": "9cbbecba-b425-420a-9a1e-4c732ba95d78"
      },
      "execution_count": null,
      "outputs": [
        {
          "output_type": "error",
          "ename": "TypeError",
          "evalue": "'str' object does not support item assignment",
          "traceback": [
            "\u001b[0;31m---------------------------------------------------------------------------\u001b[0m",
            "\u001b[0;31mTypeError\u001b[0m                                 Traceback (most recent call last)",
            "\u001b[0;32m<ipython-input-8-b67b29e121ee>\u001b[0m in \u001b[0;36m<cell line: 2>\u001b[0;34m()\u001b[0m\n\u001b[1;32m      1\u001b[0m \u001b[0mstring1\u001b[0m \u001b[0;34m=\u001b[0m \u001b[0;34m\"hello\"\u001b[0m\u001b[0;34m\u001b[0m\u001b[0;34m\u001b[0m\u001b[0m\n\u001b[0;32m----> 2\u001b[0;31m \u001b[0mstring1\u001b[0m\u001b[0;34m[\u001b[0m\u001b[0;36m0\u001b[0m\u001b[0;34m]\u001b[0m\u001b[0;34m=\u001b[0m\u001b[0;34m\"m\"\u001b[0m\u001b[0;34m\u001b[0m\u001b[0;34m\u001b[0m\u001b[0m\n\u001b[0m",
            "\u001b[0;31mTypeError\u001b[0m: 'str' object does not support item assignment"
          ]
        }
      ]
    },
    {
      "cell_type": "code",
      "source": [
        "\"\"\"\n",
        "as we can see we cant modify the elements of the string after it has been created\n",
        "hence it is a immutable data stucture\n",
        "\"\"\""
      ],
      "metadata": {
        "colab": {
          "base_uri": "https://localhost:8080/",
          "height": 54
        },
        "id": "xknZUaK-7iXe",
        "outputId": "117e4a0a-6490-4790-fcd1-6e93bfc690b2"
      },
      "execution_count": null,
      "outputs": [
        {
          "output_type": "execute_result",
          "data": {
            "text/plain": [
              "'\\nas we can see we cant modify the elements of the string after it has been created\\nhence it is a immutable data stucture\\n'"
            ],
            "application/vnd.google.colaboratory.intrinsic+json": {
              "type": "string"
            }
          },
          "metadata": {},
          "execution_count": 9
        }
      ]
    },
    {
      "cell_type": "markdown",
      "source": [
        "**Q3) What are the main differences between lists and tuples in Python?**"
      ],
      "metadata": {
        "id": "GKDL4WZY7yQl"
      }
    },
    {
      "cell_type": "code",
      "source": [
        "\"\"\"\n",
        "lists     vs      tuple\n",
        "\n",
        "1.lists are defined using square brackets[], whereas tuples are defined using\n",
        "paranthesis()\n",
        "\n",
        "2.lists are mutable whereas, tuples are immutable\n",
        "\n",
        "3.lists ahve various functions for modification like append(),extend(),remove()\n",
        "whereas, tuples have fewer functions for modifications like count(),index()\n",
        "\n",
        "4.lists are used when we need a collection of items that may need to be changed\n",
        "over time, whereas tuples are collection of items that should remain unchanged\n",
        "\n",
        "5.lists can grow and shrink in size dynamically whereas tuples cant be changed\n",
        "after its creation\n",
        "\"\"\""
      ],
      "metadata": {
        "colab": {
          "base_uri": "https://localhost:8080/",
          "height": 162
        },
        "id": "SRjG9yPc7uwg",
        "outputId": "6275c503-6691-4572-c2e3-52c80920eec0"
      },
      "execution_count": null,
      "outputs": [
        {
          "output_type": "execute_result",
          "data": {
            "text/plain": [
              "'\\nlists     vs      tuple\\n\\n1.lists are defined using square brackets[], whereas tuples are defined using \\nparanthesis()\\n\\n2.lists are mutable whereas, tuples are immutable \\n\\n3.lists ahve various functions for modification like append(),extend(),remove()\\nwhereas, tuples have fewer functions for modifications like count(),index()\\n\\n4.lists are used when we need a collection of items that may need to be changed \\nover time, whereas tuples are collection of items that should remain unchanged\\n\\n5.lists can grow and shrink in size dynamically whereas tuples cant be changed \\nafter its creation\\n'"
            ],
            "application/vnd.google.colaboratory.intrinsic+json": {
              "type": "string"
            }
          },
          "metadata": {},
          "execution_count": 10
        }
      ]
    },
    {
      "cell_type": "markdown",
      "source": [
        "**Q4) Describe how dictionaries store data?**"
      ],
      "metadata": {
        "id": "6ci152V_905k"
      }
    },
    {
      "cell_type": "code",
      "source": [
        "\"\"\"\n",
        "dictionary is a collection of key:value pair where each key is unique and each key\n",
        "is associated with a value\n",
        "\n",
        "dictionary contains:\n",
        "    1.keys: unique values used to access the associated values\n",
        "    2.values: data associated with each key\n",
        "\n",
        "storage:\n",
        "    when key is inserted into a dictionary, it converts the key into unique value\n",
        "    that is used to locate key:value pair\n",
        "\n",
        "    each key is mapped to specific index in the dicitonary where associated value\n",
        "    is stored, which allows the python to retrieve values\n",
        "\n",
        "    ordering in dictionary: as of python 3.7, dictionaries mentain the insertion\n",
        "    order of keys, meaning when we iterate thru the dictionary keys will be returned\n",
        "    in the order they were added\n",
        "\"\"\""
      ],
      "metadata": {
        "id": "hDTrKfhq9sgQ"
      },
      "execution_count": null,
      "outputs": []
    },
    {
      "cell_type": "markdown",
      "source": [
        "**Q5) Why might you use a set instead of a list in Python?**"
      ],
      "metadata": {
        "id": "rWArD8G5_0id"
      }
    },
    {
      "cell_type": "code",
      "source": [
        "\"\"\"\n",
        "both sets and lists are used to store collection of data\n",
        "\n",
        "set is an unordered collection of unique elements, whereas list is an ordered\n",
        "dollection that allows duplicates\n",
        "\n",
        "preference of sets over a lists:\n",
        "\n",
        "1.ensuring uniqueness:\n",
        "      set automatically removes duplicate elements, useful when we want to store\n",
        "      only unique items and prevent duplicates\n",
        "\n",
        "2.faster membership testing:\n",
        "      sets have faster membership testing than lists\n",
        "\n",
        "3.faster removal of items:\n",
        "      sets have faster removal of items as sets uses hash based storage\n",
        "\n",
        "4.set operations:\n",
        "      sets supports common mathematical operations like union, intersection,\n",
        "      difference etc.but list dont support these operations\n",
        "\"\"\""
      ],
      "metadata": {
        "colab": {
          "base_uri": "https://localhost:8080/",
          "height": 181
        },
        "id": "nMUnq7ii_4CN",
        "outputId": "fd6682b9-d2f3-492b-b72e-565665c8b51f"
      },
      "execution_count": null,
      "outputs": [
        {
          "output_type": "execute_result",
          "data": {
            "text/plain": [
              "'\\nboth sets and lists are used to store collection of data\\n\\nset is an unordered collection of unique elements, whereas list is an ordered \\ndollection that allows duplicates\\n\\npreference of sets over a lists:\\n\\n1.ensuring uniqueness:\\n      set automatically removes duplicate elements, useful when we want to store\\n      only unique items and prevent duplicates\\n\\n2.faster membership testing:\\n      sets have faster membership testing than lists\\n\\n3.faster removal of items:\\n      sets have faster removal of items as sets uses hash based storage\\n\\n4.set operations: \\n      sets supports common mathematical operations like union, intersection, \\n      difference etc.but list dont support these operations\\n'"
            ],
            "application/vnd.google.colaboratory.intrinsic+json": {
              "type": "string"
            }
          },
          "metadata": {},
          "execution_count": 11
        }
      ]
    },
    {
      "cell_type": "markdown",
      "source": [
        "**Q6) What is a string in Python, and how is it different from a list?**"
      ],
      "metadata": {
        "id": "sqHUHM_nBk5G"
      }
    },
    {
      "cell_type": "code",
      "source": [
        "\"\"\"\n",
        "string is a sequence of chaaracters enclosed within single or double quotes\n",
        "strings are immutable, meaning thier values cant be changed after its creation\n",
        "string can contain letters, numbers, spaces, special characters,\n",
        "therefore string are used to store textual data\n",
        "\n",
        "string      vs      lists\n",
        "1.string is a sequence of characters, whereas lists is a sequence of arbitary objects\n",
        "which can be of any data type\n",
        "\n",
        "2.string are immutable whereas, lists are mutable\n",
        "\n",
        "3.strings are defined over single or double quotes whereas, lists are defined using\n",
        "square brackets[]\n",
        "\n",
        "4.strings supports operations like, slicing, concatenation, upper(), replace()\n",
        "whereas, lists supports operations like adding/removing elements\n",
        "\"\"\""
      ],
      "metadata": {
        "id": "aEiJ9NSRBROr"
      },
      "execution_count": null,
      "outputs": []
    },
    {
      "cell_type": "markdown",
      "source": [
        "**Q7) How do tuples ensure data integrity in Python?**"
      ],
      "metadata": {
        "id": "r_alUz1DDBar"
      }
    },
    {
      "cell_type": "code",
      "source": [
        "\"\"\"\n",
        "tuples ensures data integrity from thier immutability\n",
        "immutability prevents any accidental modification of data once the tuple is created\n",
        "as a result tuples are ideal to ensure that data remains constant and cant be changed\n",
        "during program execution\n",
        "\"\"\""
      ],
      "metadata": {
        "id": "ihoPAL04DERY"
      },
      "execution_count": null,
      "outputs": []
    },
    {
      "cell_type": "markdown",
      "source": [
        "**Q8) What is a hash table, and how does it relate to dictionaries in Python?**"
      ],
      "metadata": {
        "id": "hDk3Hw01El50"
      }
    },
    {
      "cell_type": "code",
      "source": [
        "\"\"\"\n",
        "hash table is a data stucture that allows us to store and retrieve data efficently\n",
        "using hash fucntion, basically it stores data in a array like stucture where each\n",
        "element is associated with a key and value\n",
        "\n",
        "key is processed through a hash function to determine its index in the table\n",
        "\n",
        "Relation of hash tables and dictionaries in python\n",
        "=> dictionaries stores data as key:value pair,\n",
        "    key is used to access the corressponding value, which is similar to how a\n",
        "    has table stores and retrieves data using keys and hash values\n",
        "\"\"\""
      ],
      "metadata": {
        "id": "cMSUK_uIEpZ3"
      },
      "execution_count": null,
      "outputs": []
    },
    {
      "cell_type": "markdown",
      "source": [
        "**Q9) Can lists contain different data types in Python?**"
      ],
      "metadata": {
        "id": "cGrqsl2lFtr2"
      }
    },
    {
      "cell_type": "code",
      "source": [
        "\"\"\"\n",
        "yes, lists can contain different data types as they are heterogeneous meaning\n",
        "they can store elements of different types such as interger, strings, floats etc.\n",
        "\"\"\""
      ],
      "metadata": {
        "id": "gpPnaiKhFyli"
      },
      "execution_count": null,
      "outputs": []
    },
    {
      "cell_type": "markdown",
      "source": [
        "**Q10) Explain why strings are immutable in Python?**"
      ],
      "metadata": {
        "id": "hqAYYqNvGMYm"
      }
    },
    {
      "cell_type": "code",
      "source": [
        "\"\"\"\n",
        "strings are immutable meaning they cant be modified after they have been created\n",
        "\n",
        "reasons why strings are immutable:\n",
        "\n",
        "1.efficency: immutability allows for better memory management and optimization\n",
        "            in data stuctures like dictionaries and sets\n",
        "\n",
        "2. data integrity: ensures that data cant be changed accidentally\n",
        "\n",
        "3.simplicity: immutablity ensures that data remains predictable and consistent\n",
        "\n",
        "4.operations like concatenation and slicing works due to immutability\n",
        "\"\"\""
      ],
      "metadata": {
        "id": "y268UWwkGRmT"
      },
      "execution_count": null,
      "outputs": []
    },
    {
      "cell_type": "markdown",
      "source": [
        "**Q11) What advantages do dictionaries offer over lists for certain tasks?**"
      ],
      "metadata": {
        "id": "ylHcuR6VzwyC"
      }
    },
    {
      "cell_type": "code",
      "source": [
        "\"\"\"\n",
        "dictionaries over several advantages over lists for certain tasks particularly\n",
        "when you need to store and retrueve data based on keys\n",
        "\n",
        "advantages\n",
        "\n",
        "1.fast lookup by key: dictionary takes O(1) for key based lookup while lists take\n",
        "                    O(n) time\n",
        "2.dictionary stores data based on key:value pair which is ideal to associate value\n",
        "with unique identifier, which is useful for counting frequencies, mapping of\n",
        "one item to another\n",
        "\n",
        "3.prevents duplicate keys: dictionaries automatically ensures uniquesness for keys,\n",
        "      ensuring two entities cant have same key\n",
        "      if you insert a new key with a vlaue that already exists then the old value\n",
        "      gets updated\n",
        "\n",
        "      while lists, allow duplicate entries\n",
        "\n",
        "4.efficent updations and deletions: dictionary can easily add or update or delete\n",
        "key value pairs with O(1) time\n",
        "while lists require O(n) time for adding, deletion and updation of data\n",
        "\n",
        "5. dictionaries are better for non sequential data where as lists are preffered\n",
        "for sequential data\n",
        "\"\"\""
      ],
      "metadata": {
        "colab": {
          "base_uri": "https://localhost:8080/",
          "height": 36
        },
        "id": "w6jGjGIUz0ly",
        "outputId": "9ffe83e3-4870-42d1-f5b2-ad937a5c96b8"
      },
      "execution_count": 1,
      "outputs": [
        {
          "output_type": "execute_result",
          "data": {
            "text/plain": [
              "'\\n'"
            ],
            "application/vnd.google.colaboratory.intrinsic+json": {
              "type": "string"
            }
          },
          "metadata": {},
          "execution_count": 1
        }
      ]
    },
    {
      "cell_type": "markdown",
      "source": [
        "** Q12) Describe a scenario where using a tuple would be preferable over a list?**"
      ],
      "metadata": {
        "id": "973wZmr52DV5"
      }
    },
    {
      "cell_type": "code",
      "source": [
        "\"\"\"\n",
        "tuple is preffered over list when immutablity and preformance are important\n",
        "\n",
        "scenario: storing coordinates of a location\n",
        "      coordinates of location are fixed value they dont need to changed so here\n",
        "      storing of coordinates of a place would prefer tuple over a list\n",
        "\n",
        "as,\n",
        "1.immutable: as tuples are immutable therefore storing of coordinates which dont need\n",
        "to be changed will be desirable\n",
        "2.performance: tuples are faster due to immutability which is benificial while dealing\n",
        "with the coordiantes\n",
        "\"\"\""
      ],
      "metadata": {
        "id": "U_PvmY5gz7eC"
      },
      "execution_count": null,
      "outputs": []
    },
    {
      "cell_type": "markdown",
      "source": [
        "**Q13) How do sets handle duplicate values in Python?**"
      ],
      "metadata": {
        "id": "sKmnhb2S3YDD"
      }
    },
    {
      "cell_type": "code",
      "source": [
        "\"\"\"\n",
        "in python, sets automatically eliminate duplicate values,\n",
        "hence when we add a item to the set that is already present in the set\n",
        "then set will notadd this item again to the set\n",
        "\n",
        "as set is a collection of unique elements\n",
        "\"\"\""
      ],
      "metadata": {
        "id": "HxSn6yow3eJQ"
      },
      "execution_count": null,
      "outputs": []
    },
    {
      "cell_type": "markdown",
      "source": [
        "**Q14) How does the “in” keyword work differently for lists and dictionaries?**"
      ],
      "metadata": {
        "id": "TkEZlUbw4SD-"
      }
    },
    {
      "cell_type": "code",
      "source": [
        "\"\"\"\n",
        "in lists: in keywords checks if the value you are looking is present in the list or not\n",
        "        \"in\" keyword checks each element of the list sequentially unitl it finds\n",
        "        the value or finishes checking all elements\n",
        "\n",
        "in dictionary: here \"in\" keyword checks if the key you ar esearching for is present\n",
        "in the dictionary or not, not the value\n",
        "\"\"\""
      ],
      "metadata": {
        "colab": {
          "base_uri": "https://localhost:8080/",
          "height": 108
        },
        "id": "W4_Sem5E4eUU",
        "outputId": "6010b336-5b72-486c-abe0-876a0d318f8b"
      },
      "execution_count": 3,
      "outputs": [
        {
          "output_type": "execute_result",
          "data": {
            "text/plain": [
              "'\\nin lists: in keywords checks if the value you are looking is present in the list or not\\n        \"in\" keyword checks each element of the list sequentially unitl it finds \\n        the value or finishes checking all elements\\n\\nin dictionary: here \"in\" keyword checks if the key you ar esearching for is present \\nin the dictionary or not, not the value\\n'"
            ],
            "application/vnd.google.colaboratory.intrinsic+json": {
              "type": "string"
            }
          },
          "metadata": {},
          "execution_count": 3
        }
      ]
    },
    {
      "cell_type": "markdown",
      "source": [
        "**Q15) Can you modify the elements of a tuple? Explain why or why not?**"
      ],
      "metadata": {
        "id": "AbWCbycS5W5H"
      }
    },
    {
      "cell_type": "code",
      "source": [
        "\"\"\"\n",
        "while tuple itself is immutbale, but it contains mutable objects such as lists\n",
        "or dictionary then contents of those mutable objects can be modified\n",
        "otherwise elements of tuples cant be modified\n",
        "\"\"\"\n",
        "tuple1 = (1,[2,3],4)\n",
        "tuple1[1][0] = 10"
      ],
      "metadata": {
        "id": "Z6t0Z1sU4eue"
      },
      "execution_count": 4,
      "outputs": []
    },
    {
      "cell_type": "code",
      "source": [
        "tuple1"
      ],
      "metadata": {
        "colab": {
          "base_uri": "https://localhost:8080/"
        },
        "id": "EmS3k_HK6m7c",
        "outputId": "9258916a-e8cf-4ce9-abd6-413bc6cce7e5"
      },
      "execution_count": 5,
      "outputs": [
        {
          "output_type": "execute_result",
          "data": {
            "text/plain": [
              "(1, [10, 3], 4)"
            ]
          },
          "metadata": {},
          "execution_count": 5
        }
      ]
    },
    {
      "cell_type": "markdown",
      "source": [
        "as we can see now elements of the tuple can be modified"
      ],
      "metadata": {
        "id": "EOGWcwfJ6qEu"
      }
    },
    {
      "cell_type": "code",
      "source": [
        "tuple2=(1,2,3)\n",
        "tuple2[0]=10"
      ],
      "metadata": {
        "colab": {
          "base_uri": "https://localhost:8080/",
          "height": 164
        },
        "id": "XbByW9oc6pCe",
        "outputId": "721560ba-b94a-4077-f83c-738a47b9732d"
      },
      "execution_count": 6,
      "outputs": [
        {
          "output_type": "error",
          "ename": "TypeError",
          "evalue": "'tuple' object does not support item assignment",
          "traceback": [
            "\u001b[0;31m---------------------------------------------------------------------------\u001b[0m",
            "\u001b[0;31mTypeError\u001b[0m                                 Traceback (most recent call last)",
            "\u001b[0;32m<ipython-input-6-48ce44f67078>\u001b[0m in \u001b[0;36m<cell line: 2>\u001b[0;34m()\u001b[0m\n\u001b[1;32m      1\u001b[0m \u001b[0mtuple2\u001b[0m\u001b[0;34m=\u001b[0m\u001b[0;34m(\u001b[0m\u001b[0;36m1\u001b[0m\u001b[0;34m,\u001b[0m\u001b[0;36m2\u001b[0m\u001b[0;34m,\u001b[0m\u001b[0;36m3\u001b[0m\u001b[0;34m)\u001b[0m\u001b[0;34m\u001b[0m\u001b[0;34m\u001b[0m\u001b[0m\n\u001b[0;32m----> 2\u001b[0;31m \u001b[0mtuple2\u001b[0m\u001b[0;34m[\u001b[0m\u001b[0;36m0\u001b[0m\u001b[0;34m]\u001b[0m\u001b[0;34m=\u001b[0m\u001b[0;36m10\u001b[0m\u001b[0;34m\u001b[0m\u001b[0;34m\u001b[0m\u001b[0m\n\u001b[0m",
            "\u001b[0;31mTypeError\u001b[0m: 'tuple' object does not support item assignment"
          ]
        }
      ]
    },
    {
      "cell_type": "markdown",
      "source": [
        "but itself is immutable as we can see in above"
      ],
      "metadata": {
        "id": "oBaus-b462Ad"
      }
    },
    {
      "cell_type": "markdown",
      "source": [
        "**Q16) What is a nested dictionary, and give an example of its use case?**"
      ],
      "metadata": {
        "id": "1u41J72A66YI"
      }
    },
    {
      "cell_type": "code",
      "source": [
        "\"\"\"\n",
        "nested dictionary is a dictionary where the values themselves are dictionary\n",
        "\"\"\"\n",
        "#example\n",
        "students = {\n",
        "    \"aman\": {\n",
        "        \"age\":20,\n",
        "        \"grades\": {\"math\": 90,\"english\":85},\"history\":88\n",
        "    },\n",
        "    \"nirbhay\": {\n",
        "        \"age\":22,\n",
        "        \"grades\": {\"math\":95, \"english\":89,\"history\":92}\n",
        "    }\n",
        "}"
      ],
      "metadata": {
        "id": "e5ilXzcD60-a"
      },
      "execution_count": 7,
      "outputs": []
    },
    {
      "cell_type": "markdown",
      "source": [
        "q17) Describe the time complexity of accessing elements in a dictionary?\n"
      ],
      "metadata": {
        "id": "MiYpcqe78ZjC"
      }
    },
    {
      "cell_type": "code",
      "source": [
        "\"\"\"\n",
        "accessing elements in dictionary has TC of O(1) on average\n",
        "as dictionary are implemented using hash function, this allows dictionary to directly\n",
        "access the value associated with a key without having to search the entire collection\n",
        "\n",
        "TC:\n",
        "1.average case: if there is no hash collision then TC>> O(1)\n",
        "2.worst case: if tehre are many hash collisions then TC>> O(n)\n",
        "\"\"\""
      ],
      "metadata": {
        "id": "6Rw6M_ZS8LPH"
      },
      "execution_count": null,
      "outputs": []
    },
    {
      "cell_type": "markdown",
      "source": [
        "Q18)In what situations are lists preferred over dictionaries?"
      ],
      "metadata": {
        "id": "pQTn2eC8-D9w"
      }
    },
    {
      "cell_type": "code",
      "source": [
        "\"\"\"\n",
        "situations when lists are preffered over dictionary:\n",
        "\n",
        "1.when you need ordered data:\n",
        "        lists mentains the order of elements, meaning the sequence in which items\n",
        "        are added is preserved, hence they can be accessed using the index\n",
        "\n",
        "        dictionary mentains insrtion order but still we cant access the data using indexes\n",
        "        for that we need the keys\n",
        "\n",
        "2. when you dont need key-value pairs\n",
        "        lists can store only values while dictionary store data in key value pair only\n",
        "\n",
        "3.when we need to store and modify the sequence of items\n",
        "      lists are more flexible when it comes to operations like adding/removing\n",
        "      elements\n",
        "\n",
        "4.when you need to iterate over a value\n",
        "\n",
        "\"\"\""
      ],
      "metadata": {
        "id": "AsZvByAD-hQJ"
      },
      "execution_count": null,
      "outputs": []
    },
    {
      "cell_type": "markdown",
      "source": [
        "** Q19) Why are dictionaries considered unordered, and how does that affect data retrieval?**"
      ],
      "metadata": {
        "id": "ZGzNJSux_63D"
      }
    },
    {
      "cell_type": "code",
      "source": [
        "\"\"\"\n",
        "dictionary are considered as unordered as elements within the dictionary are not stored in\n",
        "any sspecific sequence\n",
        "However, since Python 3.7, dictionaries maintain insertion order, meaning the order\n",
        "in which items are added to the dictionary is preserved. Even though the insertion order is maintained,\n",
        "dictionaries are still conceptually unordered, because:\n",
        "\n",
        "You should not rely on the order of keys for logic in your program (unless you specifically need the order).\n",
        "\n",
        "Dictionaries are designed primarily for efficient key-based access, not for sequential iteration.\n",
        "\n",
        "unordered nature affect the data retrival:\n",
        "1.access by key:\n",
        "      when we use a key to access the data then the dictionary uses a hash table\n",
        "      to find the corressponding values, unordered nature dont affect this process\n",
        "      as dictionary is not concerned about the order of the elements when performing\n",
        "      key based lookups\n",
        "\n",
        "2.iteration over key, values or items:\n",
        "      dictionaries mentains the order in which items were inserted therefore when we\n",
        "      iterate over using for loop we will get key value pair in the order they were added\n",
        "\n",
        "      but we should not reply on this order for any logic\n",
        "\n",
        "3. no indexing: unlike lists and tuples, dictionary dont support indexing, therefore\n",
        "cant access the elements by thier position or index number\n",
        "\"\"\""
      ],
      "metadata": {
        "id": "bg0yc-88_-nU"
      },
      "execution_count": null,
      "outputs": []
    },
    {
      "cell_type": "markdown",
      "source": [
        "**Q20)Explain the difference between a list and a dictionary in terms of data retrieval?**"
      ],
      "metadata": {
        "id": "14MtG75ACTzs"
      }
    },
    {
      "cell_type": "code",
      "source": [
        "\"\"\"\n",
        "lists     vs      dictionary\n",
        "\n",
        "1.in lists access is done by index while in dictionary access is done using the keys\n",
        "\n",
        "2. in lists order is preserved while in dictionary it mentains the order but still\n",
        "it is considered unordered in concept\n",
        "\n",
        "3.list uses dynamic array wiht integer indexing while dictionary uses hash table with\n",
        "key-value pairs\n",
        "\n",
        "4.lists are used when orders matters or sequentail access is required while\n",
        "dictionary are used when key:value mapping is needed\n",
        "\"\"\"\n"
      ],
      "metadata": {
        "id": "SOUNtiBNCW2C"
      },
      "execution_count": null,
      "outputs": []
    },
    {
      "cell_type": "markdown",
      "source": [
        "#practical questions"
      ],
      "metadata": {
        "id": "rtuTHU6ZDem5"
      }
    },
    {
      "cell_type": "markdown",
      "source": [
        "**Q1) Write a code to create a string with your name and print it?**"
      ],
      "metadata": {
        "id": "7KxeN-MCDmZT"
      }
    },
    {
      "cell_type": "code",
      "source": [
        "name = \"nirbhay\"\n",
        "print(name)"
      ],
      "metadata": {
        "colab": {
          "base_uri": "https://localhost:8080/"
        },
        "id": "6FYm-_p5DqtJ",
        "outputId": "b2a7c89c-50ae-4b5a-9b49-dd872fb832b7"
      },
      "execution_count": 9,
      "outputs": [
        {
          "output_type": "stream",
          "name": "stdout",
          "text": [
            "nirbhay\n"
          ]
        }
      ]
    },
    {
      "cell_type": "markdown",
      "source": [
        "**Q2) Write a code to find the length of the string \"Hello World\"?**"
      ],
      "metadata": {
        "id": "vwPlBinoD-3u"
      }
    },
    {
      "cell_type": "code",
      "source": [
        "string1 = \"Hello world\"\n",
        "length1 = len(string1)\n",
        "print(length1)"
      ],
      "metadata": {
        "colab": {
          "base_uri": "https://localhost:8080/"
        },
        "id": "_KCjwy0gD5tK",
        "outputId": "3732e439-d5ce-4d52-8650-d07642bb08b9"
      },
      "execution_count": 10,
      "outputs": [
        {
          "output_type": "stream",
          "name": "stdout",
          "text": [
            "11\n"
          ]
        }
      ]
    },
    {
      "cell_type": "markdown",
      "source": [
        "**Q3)Write a code to slice the first 3 characters from the string \"Python Programming\"?**"
      ],
      "metadata": {
        "id": "I-xjCeThESe-"
      }
    },
    {
      "cell_type": "code",
      "source": [
        "string2=\"Python Programming\"\n",
        "char1 = string2[:3]\n",
        "print(char1)"
      ],
      "metadata": {
        "colab": {
          "base_uri": "https://localhost:8080/"
        },
        "id": "K3hqy9T4EPe7",
        "outputId": "fae4d04c-8212-4310-ac08-3bb3c7e69e5b"
      },
      "execution_count": 11,
      "outputs": [
        {
          "output_type": "stream",
          "name": "stdout",
          "text": [
            "Pyt\n"
          ]
        }
      ]
    },
    {
      "cell_type": "markdown",
      "source": [
        "**Q4) Write a code to convert the string \"hello\" to uppercase?**"
      ],
      "metadata": {
        "id": "Kbi40bgIEpep"
      }
    },
    {
      "cell_type": "code",
      "source": [
        "string3 = \"hello\"\n",
        "upper1 = string3.upper()\n",
        "print(upper1)"
      ],
      "metadata": {
        "colab": {
          "base_uri": "https://localhost:8080/"
        },
        "id": "OdCWXfNpEmGh",
        "outputId": "b97caf63-39cc-49b7-d1dd-839c19977aa6"
      },
      "execution_count": 14,
      "outputs": [
        {
          "output_type": "stream",
          "name": "stdout",
          "text": [
            "HELLO\n"
          ]
        }
      ]
    },
    {
      "cell_type": "markdown",
      "source": [
        "**Q5) Write a code to replace the word \"apple\" with \"orange\" in the string \"I like apple\"?**"
      ],
      "metadata": {
        "id": "hJsGzDPXFAT6"
      }
    },
    {
      "cell_type": "code",
      "source": [
        "string4 = \"I like apple\"\n",
        "mod_string = string4.replace(\"apple\",\"orange\")\n",
        "print(mod_string)"
      ],
      "metadata": {
        "colab": {
          "base_uri": "https://localhost:8080/"
        },
        "id": "jd4y_arHE4c1",
        "outputId": "a2bc884f-810a-46ae-ac39-15b032b82259"
      },
      "execution_count": 16,
      "outputs": [
        {
          "output_type": "stream",
          "name": "stdout",
          "text": [
            "I like orange\n"
          ]
        }
      ]
    },
    {
      "cell_type": "markdown",
      "source": [
        "**Q6) Write a code to create a list with numbers 1 to 5 and print it?**"
      ],
      "metadata": {
        "id": "HZFyiG28FcaT"
      }
    },
    {
      "cell_type": "code",
      "source": [
        "list1 = list(range(1,6))\n",
        "print(list1)"
      ],
      "metadata": {
        "colab": {
          "base_uri": "https://localhost:8080/"
        },
        "id": "2WBb5RPQFUVr",
        "outputId": "6d390a21-7db4-4a6a-efa5-5d32c2feb841"
      },
      "execution_count": 17,
      "outputs": [
        {
          "output_type": "stream",
          "name": "stdout",
          "text": [
            "[1, 2, 3, 4, 5]\n"
          ]
        }
      ]
    },
    {
      "cell_type": "markdown",
      "source": [
        "**Q7) Write a code to append the number 10 to the list [1, 2, 3, 4]?**"
      ],
      "metadata": {
        "id": "6KsJC8PdF1_N"
      }
    },
    {
      "cell_type": "code",
      "source": [
        "list1 = [1,2,3,4]\n",
        "list1.append(10)"
      ],
      "metadata": {
        "id": "0zDuPer0Fsnh"
      },
      "execution_count": 18,
      "outputs": []
    },
    {
      "cell_type": "code",
      "source": [
        "list1"
      ],
      "metadata": {
        "colab": {
          "base_uri": "https://localhost:8080/"
        },
        "id": "1Ma4G_dDF_ml",
        "outputId": "7bd3af96-c06e-4a50-853d-9032a07139c8"
      },
      "execution_count": 19,
      "outputs": [
        {
          "output_type": "execute_result",
          "data": {
            "text/plain": [
              "[1, 2, 3, 4, 10]"
            ]
          },
          "metadata": {},
          "execution_count": 19
        }
      ]
    },
    {
      "cell_type": "markdown",
      "source": [
        "**Q8) Write a code to remove the number 3 from the list [1, 2, 3, 4, 5]?**"
      ],
      "metadata": {
        "id": "thgewM5fGE7d"
      }
    },
    {
      "cell_type": "code",
      "source": [
        "list1 = [1,2,3,4,5]\n",
        "list1.remove(3)\n",
        "list1"
      ],
      "metadata": {
        "colab": {
          "base_uri": "https://localhost:8080/"
        },
        "id": "jAN08hzCGA3A",
        "outputId": "4d1f4a14-04dc-4790-bba3-f0695d79db92"
      },
      "execution_count": 20,
      "outputs": [
        {
          "output_type": "execute_result",
          "data": {
            "text/plain": [
              "[1, 2, 4, 5]"
            ]
          },
          "metadata": {},
          "execution_count": 20
        }
      ]
    },
    {
      "cell_type": "markdown",
      "source": [
        "Q9) Write a code to access the second element in the list ['a', 'b', 'c', 'd']?\n"
      ],
      "metadata": {
        "id": "M_jATmrpGVzD"
      }
    },
    {
      "cell_type": "code",
      "source": [
        "list1 = ['a', 'b', 'c', 'd']\n",
        "second = list1[1]\n",
        "print(second)"
      ],
      "metadata": {
        "colab": {
          "base_uri": "https://localhost:8080/"
        },
        "id": "1V7911eCGSV3",
        "outputId": "227261f8-810c-45e4-97bc-e62037a4dfd5"
      },
      "execution_count": 21,
      "outputs": [
        {
          "output_type": "stream",
          "name": "stdout",
          "text": [
            "b\n"
          ]
        }
      ]
    },
    {
      "cell_type": "markdown",
      "source": [
        "**Q10)Write a code to reverse the list [10, 20, 30, 40, 50]?**"
      ],
      "metadata": {
        "id": "kLFq7oI1G3D3"
      }
    },
    {
      "cell_type": "code",
      "source": [
        "list1 = [10, 20, 30, 40, 50]\n",
        "rev = list1[::-1]\n",
        "print(rev)"
      ],
      "metadata": {
        "colab": {
          "base_uri": "https://localhost:8080/"
        },
        "id": "IyQ91AegGlai",
        "outputId": "57ba3ca5-ef8c-4c92-b7c6-a3897a22aa68"
      },
      "execution_count": 22,
      "outputs": [
        {
          "output_type": "stream",
          "name": "stdout",
          "text": [
            "[50, 40, 30, 20, 10]\n"
          ]
        }
      ]
    },
    {
      "cell_type": "markdown",
      "source": [
        "**Q11) Write a code to create a tuple with the elements 10, 20, 30 and print it.**"
      ],
      "metadata": {
        "id": "m65iJBHoG_Lo"
      }
    },
    {
      "cell_type": "code",
      "source": [
        "tuple1 = (10, 20, 30)\n",
        "print(tuple1)"
      ],
      "metadata": {
        "colab": {
          "base_uri": "https://localhost:8080/"
        },
        "id": "OaAn8rv0G1cP",
        "outputId": "9e71184d-2da8-495e-e886-6e4c8f9b9551"
      },
      "execution_count": 23,
      "outputs": [
        {
          "output_type": "stream",
          "name": "stdout",
          "text": [
            "(10, 20, 30)\n"
          ]
        }
      ]
    },
    {
      "cell_type": "markdown",
      "source": [
        "** Q12) Write a code to access the first element of the tuple ('apple', 'banana', 'cherry').**"
      ],
      "metadata": {
        "id": "mwKHH65_HPKp"
      }
    },
    {
      "cell_type": "code",
      "source": [
        "tuple1 =('apple', 'banana', 'cherry')\n",
        "first = tuple1[0]\n",
        "print(first)"
      ],
      "metadata": {
        "colab": {
          "base_uri": "https://localhost:8080/"
        },
        "id": "qENs9FnLHKjR",
        "outputId": "f72dd6f1-6b11-41af-e13a-8930d8b91c1e"
      },
      "execution_count": 24,
      "outputs": [
        {
          "output_type": "stream",
          "name": "stdout",
          "text": [
            "apple\n"
          ]
        }
      ]
    },
    {
      "cell_type": "markdown",
      "source": [
        "**Q13) Write a code to count how many times the number 2 appears in the tuple (1, 2, 3, 2, 4, 2)**"
      ],
      "metadata": {
        "id": "IIYgn-KIHmMH"
      }
    },
    {
      "cell_type": "code",
      "source": [
        "tuple1 = (1, 2, 3, 2, 4, 2)\n",
        "count1  = tuple1.count(2)\n",
        "print(count1)"
      ],
      "metadata": {
        "colab": {
          "base_uri": "https://localhost:8080/"
        },
        "id": "XKPCvS9rHiGE",
        "outputId": "ad17c47d-a6d2-4a9f-b1db-111fe15cb2fd"
      },
      "execution_count": 25,
      "outputs": [
        {
          "output_type": "stream",
          "name": "stdout",
          "text": [
            "3\n"
          ]
        }
      ]
    },
    {
      "cell_type": "markdown",
      "source": [
        "**Q14) Write a code to find the index of the element \"cat\" in the tuple ('dog', 'cat', 'rabbit').**"
      ],
      "metadata": {
        "id": "z_zuSUK8H8XV"
      }
    },
    {
      "cell_type": "code",
      "source": [
        "tuple1  = ('dog', 'cat', 'rabbit')\n",
        "index1  = tuple1.index('cat')\n",
        "print(index1)"
      ],
      "metadata": {
        "colab": {
          "base_uri": "https://localhost:8080/"
        },
        "id": "9MXA63DAH_WM",
        "outputId": "906566e9-5229-4d57-8d1d-46bc5932461f"
      },
      "execution_count": 26,
      "outputs": [
        {
          "output_type": "stream",
          "name": "stdout",
          "text": [
            "1\n"
          ]
        }
      ]
    },
    {
      "cell_type": "markdown",
      "source": [
        "**Q15) Write a code to check if the element \"banana\" is in the tuple ('apple', 'orange', 'banana')**"
      ],
      "metadata": {
        "id": "N00rBXMUIOL3"
      }
    },
    {
      "cell_type": "code",
      "source": [
        "tuple1 = ('apple', 'orange', 'banana')\n",
        "exist1 = 'banana' in tuple1\n",
        "print(exist1)"
      ],
      "metadata": {
        "colab": {
          "base_uri": "https://localhost:8080/"
        },
        "id": "4ek6hVmoIK37",
        "outputId": "2a2ed865-08cd-4f28-b4bf-8d68fbaee764"
      },
      "execution_count": 27,
      "outputs": [
        {
          "output_type": "stream",
          "name": "stdout",
          "text": [
            "True\n"
          ]
        }
      ]
    },
    {
      "cell_type": "markdown",
      "source": [
        "**Q16) Write a code to create a set with the elements 1, 2, 3, 4, 5 and print it.**"
      ],
      "metadata": {
        "id": "lDmgNWu4Ihpc"
      }
    },
    {
      "cell_type": "code",
      "source": [
        "set1 ={1,2,3,4,5}\n",
        "print(set1)"
      ],
      "metadata": {
        "colab": {
          "base_uri": "https://localhost:8080/"
        },
        "id": "BeOsghQkIeeJ",
        "outputId": "06dd0c66-9a6f-4fd3-b289-0c757f3b5716"
      },
      "execution_count": 28,
      "outputs": [
        {
          "output_type": "stream",
          "name": "stdout",
          "text": [
            "{1, 2, 3, 4, 5}\n"
          ]
        }
      ]
    },
    {
      "cell_type": "markdown",
      "source": [
        "**Q17) Write a code to add the element 6 to the set {1, 2, 3, 4}.**"
      ],
      "metadata": {
        "id": "OE6oKts7NZdF"
      }
    },
    {
      "cell_type": "code",
      "source": [
        "set1 = {1,2,3,4}\n",
        "set1.add(6)\n",
        "print(set1)"
      ],
      "metadata": {
        "colab": {
          "base_uri": "https://localhost:8080/"
        },
        "id": "EJOVUpJgNV7X",
        "outputId": "704445f5-57ef-496c-9ed3-8fae8f0e349f"
      },
      "execution_count": 29,
      "outputs": [
        {
          "output_type": "stream",
          "name": "stdout",
          "text": [
            "{1, 2, 3, 4, 6}\n"
          ]
        }
      ]
    },
    {
      "cell_type": "markdown",
      "source": [
        "**Q18) Write a code to create a tuple with the elements 10, 20, 30 and print it.**"
      ],
      "metadata": {
        "id": "j65AjKsXNlSU"
      }
    },
    {
      "cell_type": "code",
      "source": [
        "tuple1 = (10, 20, 30)\n",
        "print(tuple1)"
      ],
      "metadata": {
        "colab": {
          "base_uri": "https://localhost:8080/"
        },
        "id": "hQjqtFafNi1v",
        "outputId": "e3942e1e-f3e6-430d-9c1a-0b447bbc7a86"
      },
      "execution_count": 30,
      "outputs": [
        {
          "output_type": "stream",
          "name": "stdout",
          "text": [
            "(10, 20, 30)\n"
          ]
        }
      ]
    },
    {
      "cell_type": "markdown",
      "source": [
        "**Q19)Write a code to access the first element of the tuple ('apple', 'banana', 'cherry').**"
      ],
      "metadata": {
        "id": "yo2tYGuHNzIz"
      }
    },
    {
      "cell_type": "code",
      "source": [
        "tuple1 = ('apple', 'banana', 'cherry')\n",
        "first = tuple1[0]\n",
        "print(first)"
      ],
      "metadata": {
        "colab": {
          "base_uri": "https://localhost:8080/"
        },
        "id": "W2yXMuagNuy4",
        "outputId": "2abba6d1-6fab-414a-82c9-5ec45a976ace"
      },
      "execution_count": 31,
      "outputs": [
        {
          "output_type": "stream",
          "name": "stdout",
          "text": [
            "apple\n"
          ]
        }
      ]
    },
    {
      "cell_type": "markdown",
      "source": [
        "** Q20) Write a code to count how many times the number 2 appears in the tuple (1, 2, 3, 2, 4, 2).**"
      ],
      "metadata": {
        "id": "myvbQwyJN_d3"
      }
    },
    {
      "cell_type": "code",
      "source": [
        "\n",
        "my_tuple = (1, 2, 3, 2, 4, 2)\n",
        "count_of_two = my_tuple.count(2)\n",
        "print(count_of_two)\n"
      ],
      "metadata": {
        "colab": {
          "base_uri": "https://localhost:8080/"
        },
        "id": "v55V_VwNN9Gn",
        "outputId": "8814899f-026e-4c6e-c2b6-59d35fe12445"
      },
      "execution_count": 33,
      "outputs": [
        {
          "output_type": "stream",
          "name": "stdout",
          "text": [
            "3\n"
          ]
        }
      ]
    },
    {
      "cell_type": "markdown",
      "source": [
        "**Q21) Write a code to find the index of the element \"cat\" in the tuple ('dog', 'cat', 'rabbit').**"
      ],
      "metadata": {
        "id": "EkHQRXWkOYJ3"
      }
    },
    {
      "cell_type": "code",
      "source": [
        "tuple1 = ('dog', 'cat', 'rabbit')\n",
        "index1 = tuple1.index('cat')\n",
        "print(index1)"
      ],
      "metadata": {
        "colab": {
          "base_uri": "https://localhost:8080/"
        },
        "id": "KGZh47dPOK1n",
        "outputId": "8b2662aa-a619-44c9-bd51-90c13661b282"
      },
      "execution_count": 34,
      "outputs": [
        {
          "output_type": "stream",
          "name": "stdout",
          "text": [
            "1\n"
          ]
        }
      ]
    },
    {
      "cell_type": "markdown",
      "source": [
        "**Q22) Write a code to check if the element \"banana\" is in the tuple ('apple', 'orange', 'banana')**"
      ],
      "metadata": {
        "id": "IjdI_R-3OrPO"
      }
    },
    {
      "cell_type": "code",
      "source": [
        "tuple1 = ('apple', 'orange', 'banana')\n",
        "exist1 = 'banana' in tuple1\n",
        "print(exist1)"
      ],
      "metadata": {
        "colab": {
          "base_uri": "https://localhost:8080/"
        },
        "id": "Hp3S-fzfOo7V",
        "outputId": "895a6bcf-bed2-493a-8010-32771cfa12a0"
      },
      "execution_count": 35,
      "outputs": [
        {
          "output_type": "stream",
          "name": "stdout",
          "text": [
            "True\n"
          ]
        }
      ]
    },
    {
      "cell_type": "markdown",
      "source": [
        "**Q23) Write a code to create a set with the elements 1, 2, 3, 4, 5 and print it.**"
      ],
      "metadata": {
        "id": "fMWCo4R7O79A"
      }
    },
    {
      "cell_type": "code",
      "source": [
        "set1 = {1, 2, 3, 4, 5}\n",
        "print(set1)"
      ],
      "metadata": {
        "colab": {
          "base_uri": "https://localhost:8080/"
        },
        "id": "e2dswUhyO5Us",
        "outputId": "0e1b8a31-0d22-4382-839f-67333bf5c81d"
      },
      "execution_count": 36,
      "outputs": [
        {
          "output_type": "stream",
          "name": "stdout",
          "text": [
            "{1, 2, 3, 4, 5}\n"
          ]
        }
      ]
    },
    {
      "cell_type": "markdown",
      "source": [
        "**Q24) Write a code to add the element 6 to the set {1, 2, 3, 4}.**"
      ],
      "metadata": {
        "id": "hHaHmaYfPH6L"
      }
    },
    {
      "cell_type": "code",
      "source": [
        "set1 = {1, 2, 3, 4}\n",
        "set1.add(6)\n",
        "print(set1)"
      ],
      "metadata": {
        "colab": {
          "base_uri": "https://localhost:8080/"
        },
        "id": "4AqKKM-HPFsE",
        "outputId": "b1078052-30b5-4436-ef68-9a0eda4fba09"
      },
      "execution_count": 37,
      "outputs": [
        {
          "output_type": "stream",
          "name": "stdout",
          "text": [
            "{1, 2, 3, 4, 6}\n"
          ]
        }
      ]
    },
    {
      "cell_type": "code",
      "source": [],
      "metadata": {
        "id": "FOvDAffcPU3U"
      },
      "execution_count": null,
      "outputs": []
    }
  ]
}